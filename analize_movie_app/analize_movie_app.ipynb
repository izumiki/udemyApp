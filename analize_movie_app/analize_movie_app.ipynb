{
 "cells": [
  {
   "cell_type": "code",
   "execution_count": 1,
   "metadata": {},
   "outputs": [
    {
     "name": "stdout",
     "output_type": "stream",
     "text": [
      "Collecting google-api-python-client\n",
      "  Using cached google_api_python_client-2.166.0-py2.py3-none-any.whl.metadata (6.6 kB)\n",
      "Collecting httplib2<1.0.0,>=0.19.0 (from google-api-python-client)\n",
      "  Using cached httplib2-0.22.0-py3-none-any.whl.metadata (2.6 kB)\n",
      "Requirement already satisfied: google-auth!=2.24.0,!=2.25.0,<3.0.0,>=1.32.0 in /home/izuminnet/udemyApp/myenv/lib/python3.12/site-packages (from google-api-python-client) (2.38.0)\n",
      "Collecting google-auth-httplib2<1.0.0,>=0.2.0 (from google-api-python-client)\n",
      "  Using cached google_auth_httplib2-0.2.0-py2.py3-none-any.whl.metadata (2.2 kB)\n",
      "Requirement already satisfied: google-api-core!=2.0.*,!=2.1.*,!=2.2.*,!=2.3.0,<3.0.0,>=1.31.5 in /home/izuminnet/udemyApp/myenv/lib/python3.12/site-packages (from google-api-python-client) (2.24.2)\n",
      "Collecting uritemplate<5,>=3.0.1 (from google-api-python-client)\n",
      "  Using cached uritemplate-4.1.1-py2.py3-none-any.whl.metadata (2.9 kB)\n",
      "Requirement already satisfied: googleapis-common-protos<2.0.0,>=1.56.2 in /home/izuminnet/udemyApp/myenv/lib/python3.12/site-packages (from google-api-core!=2.0.*,!=2.1.*,!=2.2.*,!=2.3.0,<3.0.0,>=1.31.5->google-api-python-client) (1.69.2)\n",
      "Requirement already satisfied: protobuf!=3.20.0,!=3.20.1,!=4.21.0,!=4.21.1,!=4.21.2,!=4.21.3,!=4.21.4,!=4.21.5,<7.0.0,>=3.19.5 in /home/izuminnet/udemyApp/myenv/lib/python3.12/site-packages (from google-api-core!=2.0.*,!=2.1.*,!=2.2.*,!=2.3.0,<3.0.0,>=1.31.5->google-api-python-client) (5.29.4)\n",
      "Requirement already satisfied: proto-plus<2.0.0,>=1.22.3 in /home/izuminnet/udemyApp/myenv/lib/python3.12/site-packages (from google-api-core!=2.0.*,!=2.1.*,!=2.2.*,!=2.3.0,<3.0.0,>=1.31.5->google-api-python-client) (1.26.1)\n",
      "Requirement already satisfied: requests<3.0.0,>=2.18.0 in /home/izuminnet/udemyApp/myenv/lib/python3.12/site-packages (from google-api-core!=2.0.*,!=2.1.*,!=2.2.*,!=2.3.0,<3.0.0,>=1.31.5->google-api-python-client) (2.32.3)\n",
      "Requirement already satisfied: cachetools<6.0,>=2.0.0 in /home/izuminnet/udemyApp/myenv/lib/python3.12/site-packages (from google-auth!=2.24.0,!=2.25.0,<3.0.0,>=1.32.0->google-api-python-client) (5.5.2)\n",
      "Requirement already satisfied: pyasn1-modules>=0.2.1 in /home/izuminnet/udemyApp/myenv/lib/python3.12/site-packages (from google-auth!=2.24.0,!=2.25.0,<3.0.0,>=1.32.0->google-api-python-client) (0.4.1)\n",
      "Requirement already satisfied: rsa<5,>=3.1.4 in /home/izuminnet/udemyApp/myenv/lib/python3.12/site-packages (from google-auth!=2.24.0,!=2.25.0,<3.0.0,>=1.32.0->google-api-python-client) (4.9)\n",
      "Requirement already satisfied: pyparsing!=3.0.0,!=3.0.1,!=3.0.2,!=3.0.3,<4,>=2.4.2 in /home/izuminnet/udemyApp/myenv/lib/python3.12/site-packages (from httplib2<1.0.0,>=0.19.0->google-api-python-client) (3.2.3)\n",
      "Requirement already satisfied: pyasn1<0.7.0,>=0.4.6 in /home/izuminnet/udemyApp/myenv/lib/python3.12/site-packages (from pyasn1-modules>=0.2.1->google-auth!=2.24.0,!=2.25.0,<3.0.0,>=1.32.0->google-api-python-client) (0.6.1)\n",
      "Requirement already satisfied: charset-normalizer<4,>=2 in /home/izuminnet/udemyApp/myenv/lib/python3.12/site-packages (from requests<3.0.0,>=2.18.0->google-api-core!=2.0.*,!=2.1.*,!=2.2.*,!=2.3.0,<3.0.0,>=1.31.5->google-api-python-client) (3.4.1)\n",
      "Requirement already satisfied: idna<4,>=2.5 in /home/izuminnet/udemyApp/myenv/lib/python3.12/site-packages (from requests<3.0.0,>=2.18.0->google-api-core!=2.0.*,!=2.1.*,!=2.2.*,!=2.3.0,<3.0.0,>=1.31.5->google-api-python-client) (3.10)\n",
      "Requirement already satisfied: urllib3<3,>=1.21.1 in /home/izuminnet/udemyApp/myenv/lib/python3.12/site-packages (from requests<3.0.0,>=2.18.0->google-api-core!=2.0.*,!=2.1.*,!=2.2.*,!=2.3.0,<3.0.0,>=1.31.5->google-api-python-client) (2.3.0)\n",
      "Requirement already satisfied: certifi>=2017.4.17 in /home/izuminnet/udemyApp/myenv/lib/python3.12/site-packages (from requests<3.0.0,>=2.18.0->google-api-core!=2.0.*,!=2.1.*,!=2.2.*,!=2.3.0,<3.0.0,>=1.31.5->google-api-python-client) (2025.1.31)\n",
      "Using cached google_api_python_client-2.166.0-py2.py3-none-any.whl (13.2 MB)\n",
      "Using cached google_auth_httplib2-0.2.0-py2.py3-none-any.whl (9.3 kB)\n",
      "Using cached httplib2-0.22.0-py3-none-any.whl (96 kB)\n",
      "Using cached uritemplate-4.1.1-py2.py3-none-any.whl (10 kB)\n",
      "Installing collected packages: uritemplate, httplib2, google-auth-httplib2, google-api-python-client\n",
      "Successfully installed google-api-python-client-2.166.0 google-auth-httplib2-0.2.0 httplib2-0.22.0 uritemplate-4.1.1\n"
     ]
    }
   ],
   "source": [
    "!pip install google-api-python-client "
   ]
  },
  {
   "cell_type": "code",
   "execution_count": 21,
   "metadata": {},
   "outputs": [],
   "source": [
    "from apiclient.discovery import build\n",
    "import pandas as pd\n",
    "import json\n",
    "with open('secret.json') as f:\n",
    "    secret = json.load(f)"
   ]
  },
  {
   "cell_type": "code",
   "execution_count": null,
   "metadata": {},
   "outputs": [],
   "source": [
    "def video_search(youtube, q='Python 自動化', max_results=50):\n",
    "    response = youtube.search().list(\n",
    "        q=q,\n",
    "        part=\"id,snippet\",\n",
    "        order='viewCount',\n",
    "        type='video',\n",
    "        maxResults=max_results\n",
    "    ).execute() \n",
    "\n",
    "    items = response['items']\n",
    "    items_id = []\n",
    "    for item in items:\n",
    "        item_id = {}\n",
    "        item_id['video_id'] = item['id']['videoId']\n",
    "        item_id['channel_id'] = item['snippet']['channelId']\n",
    "        items_id.append(item_id)\n",
    "\n",
    "    df_video = pd.DataFrame(items_id)\n",
    "\n",
    "    return df_video\n"
   ]
  },
  {
   "cell_type": "code",
   "execution_count": 19,
   "metadata": {},
   "outputs": [],
   "source": [
    "DEVELOPER_KEY  = secret['KEY']\n",
    "YOUTUBE_API_SERVICE_NAME = \"youtube\"\n",
    "YOUTUBE_API_VERSION = \"v3\"\n",
    "\n",
    "youtube = build(YOUTUBE_API_SERVICE_NAME, YOUTUBE_API_VERSION,\n",
    "                developerKey=DEVELOPER_KEY)\n",
    "\n",
    "df_video = video_search(youtube, q='Python 自動化', max_results=50)"
   ]
  },
  {
   "cell_type": "code",
   "execution_count": 26,
   "metadata": {},
   "outputs": [],
   "source": [
    "max_results = 50\n"
   ]
  },
  {
   "cell_type": "code",
   "execution_count": 30,
   "metadata": {},
   "outputs": [],
   "source": [
    "channel_ids = df_video['channel_id'].unique().tolist()\n",
    "\n",
    "subscriber_list = youtube.channels().list(\n",
    "    id=','.join(channel_ids),\n",
    "    part='statistics',\n",
    "    fields='items(id,statistics(subscriberCount))'\n",
    ").execute()"
   ]
  },
  {
   "cell_type": "code",
   "execution_count": 37,
   "metadata": {},
   "outputs": [],
   "source": [
    "subscribers = []\n",
    "for item in subscriber_list['items']:\n",
    "    subscriber = {}\n",
    "    subscriber['channel_id'] = item['id']\n",
    "    subscriber['subscriber_count'] = int(item['statistics']['subscriberCount'])\n",
    "    subscribers.append(subscriber)\n",
    "\n",
    "df_subscribers = pd.DataFrame(subscribers)\n"
   ]
  },
  {
   "cell_type": "code",
   "execution_count": 39,
   "metadata": {},
   "outputs": [
    {
     "data": {
      "text/html": [
       "<div>\n",
       "<style scoped>\n",
       "    .dataframe tbody tr th:only-of-type {\n",
       "        vertical-align: middle;\n",
       "    }\n",
       "\n",
       "    .dataframe tbody tr th {\n",
       "        vertical-align: top;\n",
       "    }\n",
       "\n",
       "    .dataframe thead th {\n",
       "        text-align: right;\n",
       "    }\n",
       "</style>\n",
       "<table border=\"1\" class=\"dataframe\">\n",
       "  <thead>\n",
       "    <tr style=\"text-align: right;\">\n",
       "      <th></th>\n",
       "      <th>video_id</th>\n",
       "      <th>channel_id</th>\n",
       "      <th>subscriber_count</th>\n",
       "    </tr>\n",
       "  </thead>\n",
       "  <tbody>\n",
       "    <tr>\n",
       "      <th>41</th>\n",
       "      <td>8xFdQ-0t12s</td>\n",
       "      <td>UC4iUfGeYbYhAySUwCZge9Ig</td>\n",
       "      <td>1930</td>\n",
       "    </tr>\n",
       "    <tr>\n",
       "      <th>44</th>\n",
       "      <td>QdHd3hGMDAo</td>\n",
       "      <td>UCAXt2DZuGc8990EkQSPr8pg</td>\n",
       "      <td>5510</td>\n",
       "    </tr>\n",
       "    <tr>\n",
       "      <th>45</th>\n",
       "      <td>nCfAtMooIQQ</td>\n",
       "      <td>UCNste53_VRtP6MGUfitOYQA</td>\n",
       "      <td>5980</td>\n",
       "    </tr>\n",
       "    <tr>\n",
       "      <th>47</th>\n",
       "      <td>eouKY0dQhFY</td>\n",
       "      <td>UCO4Cruq71rw9S9lPDjJVyDA</td>\n",
       "      <td>3460</td>\n",
       "    </tr>\n",
       "  </tbody>\n",
       "</table>\n",
       "</div>"
      ],
      "text/plain": [
       "       video_id                channel_id  subscriber_count\n",
       "41  8xFdQ-0t12s  UC4iUfGeYbYhAySUwCZge9Ig              1930\n",
       "44  QdHd3hGMDAo  UCAXt2DZuGc8990EkQSPr8pg              5510\n",
       "45  nCfAtMooIQQ  UCNste53_VRtP6MGUfitOYQA              5980\n",
       "47  eouKY0dQhFY  UCO4Cruq71rw9S9lPDjJVyDA              3460"
      ]
     },
     "execution_count": 39,
     "metadata": {},
     "output_type": "execute_result"
    }
   ],
   "source": [
    "df = pd.merge(left=df_video, right=df_subscribers, on='channel_id')\n",
    "df_extracted = df[df['subscriber_count'] < 10000]\n",
    "df_extracted"
   ]
  },
  {
   "cell_type": "code",
   "execution_count": 46,
   "metadata": {},
   "outputs": [],
   "source": [
    "video_ids = df_extracted['video_id'].tolist()\n",
    "videos_list = youtube.videos().list(\n",
    "    id=','.join(video_ids),\n",
    "    part='snippet,statistics',\n",
    "    fields='items(id,snippet(title),statistics(viewCount))'\n",
    ").execute() "
   ]
  },
  {
   "cell_type": "code",
   "execution_count": null,
   "metadata": {},
   "outputs": [],
   "source": [
    "items = videos_list['items']\n",
    "videos_info = []\n",
    "\n",
    "for item in items:\n",
    "    video_info = {}\n",
    "    video_info['video_id'] = item['id']\n",
    "    video_info['title'] = item['snippet']['title']\n",
    "    video_info['view_count'] = item['statistics']['viewCount']\n",
    "    videos_info.append(video_info)\n",
    "\n",
    "videos_info\n",
    "df_videos_info = pd.DataFrame(videos_info)"
   ]
  },
  {
   "cell_type": "code",
   "execution_count": 57,
   "metadata": {},
   "outputs": [],
   "source": [
    "results = pd.merge(left=df_extracted, right=df_videos_info, on='video_id')\n",
    "results = results.loc[:, ['video_id', 'title', 'view_count', 'subscriber_count', 'channel_id']]"
   ]
  },
  {
   "cell_type": "code",
   "execution_count": 63,
   "metadata": {},
   "outputs": [],
   "source": [
    "df_video = video_search(youtube, q='Python 自動化', max_results=50)\n",
    "\n",
    "def get_results(df_video, threshold=5000):\n",
    "    channel_ids = df_video['channel_id'].unique().tolist()\n",
    "    subscriber_list = youtube.channels().list(\n",
    "        id=','.join(channel_ids),\n",
    "        part='statistics',\n",
    "        fields='items(id,statistics(subscriberCount))'\n",
    "    ).execute()\n",
    "\n",
    "    subscribers = []\n",
    "    for item in subscriber_list['items']:\n",
    "        subscriber = {}\n",
    "        if len(item['statistics']) > 0:\n",
    "            subscriber['channel_id'] = item['id']\n",
    "            subscriber['subscriber_count'] = int(item['statistics']['subscriberCount'])\n",
    "            subscribers.append(subscriber)\n",
    "        else:\n",
    "            subscriber['channel_id'] = item['id']\n",
    "            \n",
    "    df_subscribers = pd.DataFrame(subscribers)\n",
    "    df = pd.merge(left=df_video, right=df_subscribers, on='channel_id')\n",
    "    df_extracted = df[df['subscriber_count'] < threshold]\n",
    "\n",
    "    video_ids = df_extracted['video_id'].tolist()\n",
    "    videos_list = youtube.videos().list(\n",
    "        id=','.join(video_ids),\n",
    "        part='snippet,statistics',\n",
    "        fields='items(id,snippet(title),statistics(viewCount))'\n",
    "    ).execute() \n",
    "\n",
    "    items = videos_list['items']\n",
    "    videos_info = []\n",
    "\n",
    "    for item in items:\n",
    "        video_info = {}\n",
    "        video_info['video_id'] = item['id']\n",
    "        video_info['title'] = item['snippet']['title']\n",
    "        video_info['view_count'] = item['statistics']['viewCount']\n",
    "        videos_info.append(video_info)\n",
    "\n",
    "    df_videos_info = pd.DataFrame(videos_info)\n",
    "\n",
    "    results = pd.merge(left=df_extracted, right=df_videos_info, on='video_id')\n",
    "    results = results.loc[:, ['video_id', 'title', 'view_count', 'subscriber_count', 'channel_id']]\n",
    "\n",
    "    return results"
   ]
  },
  {
   "cell_type": "code",
   "execution_count": 64,
   "metadata": {},
   "outputs": [],
   "source": [
    "df_video = video_search(youtube, q='Python Excel', max_results=50)\n",
    "results =get_results(df_video, threshold=10000)"
   ]
  }
 ],
 "metadata": {
  "kernelspec": {
   "display_name": "Python 3",
   "language": "python",
   "name": "python3"
  },
  "language_info": {
   "codemirror_mode": {
    "name": "ipython",
    "version": 3
   },
   "file_extension": ".py",
   "mimetype": "text/x-python",
   "name": "python",
   "nbconvert_exporter": "python",
   "pygments_lexer": "ipython3",
   "version": "3.12.3"
  }
 },
 "nbformat": 4,
 "nbformat_minor": 2
}
