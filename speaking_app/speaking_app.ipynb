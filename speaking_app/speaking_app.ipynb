{
 "cells": [
  {
   "cell_type": "code",
   "execution_count": 14,
   "metadata": {},
   "outputs": [],
   "source": [
    "import os\n",
    "os.environ['GOOGLE_APPLICATION_CREDENTIALS'] = 'secret.json'\n"
   ]
  },
  {
   "cell_type": "code",
   "execution_count": 3,
   "metadata": {},
   "outputs": [
    {
     "name": "stdout",
     "output_type": "stream",
     "text": [
      "Collecting google-cloud-texttospeech\n",
      "  Using cached google_cloud_texttospeech-2.25.1-py3-none-any.whl.metadata (9.6 kB)\n",
      "Collecting google-api-core!=2.0.*,!=2.1.*,!=2.10.*,!=2.2.*,!=2.3.*,!=2.4.*,!=2.5.*,!=2.6.*,!=2.7.*,!=2.8.*,!=2.9.*,<3.0.0,>=1.34.1 (from google-api-core[grpc]!=2.0.*,!=2.1.*,!=2.10.*,!=2.2.*,!=2.3.*,!=2.4.*,!=2.5.*,!=2.6.*,!=2.7.*,!=2.8.*,!=2.9.*,<3.0.0,>=1.34.1->google-cloud-texttospeech)\n",
      "  Using cached google_api_core-2.24.2-py3-none-any.whl.metadata (3.0 kB)\n",
      "Collecting google-auth!=2.24.0,!=2.25.0,<3.0.0,>=2.14.1 (from google-cloud-texttospeech)\n",
      "  Using cached google_auth-2.38.0-py2.py3-none-any.whl.metadata (4.8 kB)\n",
      "Collecting proto-plus<2.0.0,>=1.22.3 (from google-cloud-texttospeech)\n",
      "  Using cached proto_plus-1.26.1-py3-none-any.whl.metadata (2.2 kB)\n",
      "Requirement already satisfied: protobuf!=4.21.0,!=4.21.1,!=4.21.2,!=4.21.3,!=4.21.4,!=4.21.5,<7.0.0,>=3.20.2 in /home/izuminnet/udemyApp/myenv/lib/python3.12/site-packages (from google-cloud-texttospeech) (5.29.4)\n",
      "Collecting googleapis-common-protos<2.0.0,>=1.56.2 (from google-api-core!=2.0.*,!=2.1.*,!=2.10.*,!=2.2.*,!=2.3.*,!=2.4.*,!=2.5.*,!=2.6.*,!=2.7.*,!=2.8.*,!=2.9.*,<3.0.0,>=1.34.1->google-api-core[grpc]!=2.0.*,!=2.1.*,!=2.10.*,!=2.2.*,!=2.3.*,!=2.4.*,!=2.5.*,!=2.6.*,!=2.7.*,!=2.8.*,!=2.9.*,<3.0.0,>=1.34.1->google-cloud-texttospeech)\n",
      "  Using cached googleapis_common_protos-1.69.2-py3-none-any.whl.metadata (9.3 kB)\n",
      "Requirement already satisfied: requests<3.0.0,>=2.18.0 in /home/izuminnet/udemyApp/myenv/lib/python3.12/site-packages (from google-api-core!=2.0.*,!=2.1.*,!=2.10.*,!=2.2.*,!=2.3.*,!=2.4.*,!=2.5.*,!=2.6.*,!=2.7.*,!=2.8.*,!=2.9.*,<3.0.0,>=1.34.1->google-api-core[grpc]!=2.0.*,!=2.1.*,!=2.10.*,!=2.2.*,!=2.3.*,!=2.4.*,!=2.5.*,!=2.6.*,!=2.7.*,!=2.8.*,!=2.9.*,<3.0.0,>=1.34.1->google-cloud-texttospeech) (2.32.3)\n",
      "Collecting grpcio<2.0dev,>=1.33.2 (from google-api-core[grpc]!=2.0.*,!=2.1.*,!=2.10.*,!=2.2.*,!=2.3.*,!=2.4.*,!=2.5.*,!=2.6.*,!=2.7.*,!=2.8.*,!=2.9.*,<3.0.0,>=1.34.1->google-cloud-texttospeech)\n",
      "  Using cached grpcio-1.71.0-cp312-cp312-manylinux_2_17_x86_64.manylinux2014_x86_64.whl.metadata (3.8 kB)\n",
      "Collecting grpcio-status<2.0.dev0,>=1.33.2 (from google-api-core[grpc]!=2.0.*,!=2.1.*,!=2.10.*,!=2.2.*,!=2.3.*,!=2.4.*,!=2.5.*,!=2.6.*,!=2.7.*,!=2.8.*,!=2.9.*,<3.0.0,>=1.34.1->google-cloud-texttospeech)\n",
      "  Using cached grpcio_status-1.71.0-py3-none-any.whl.metadata (1.1 kB)\n",
      "Requirement already satisfied: cachetools<6.0,>=2.0.0 in /home/izuminnet/udemyApp/myenv/lib/python3.12/site-packages (from google-auth!=2.24.0,!=2.25.0,<3.0.0,>=2.14.1->google-cloud-texttospeech) (5.5.2)\n",
      "Collecting pyasn1-modules>=0.2.1 (from google-auth!=2.24.0,!=2.25.0,<3.0.0,>=2.14.1->google-cloud-texttospeech)\n",
      "  Using cached pyasn1_modules-0.4.1-py3-none-any.whl.metadata (3.5 kB)\n",
      "Collecting rsa<5,>=3.1.4 (from google-auth!=2.24.0,!=2.25.0,<3.0.0,>=2.14.1->google-cloud-texttospeech)\n",
      "  Using cached rsa-4.9-py3-none-any.whl.metadata (4.2 kB)\n",
      "Collecting pyasn1<0.7.0,>=0.4.6 (from pyasn1-modules>=0.2.1->google-auth!=2.24.0,!=2.25.0,<3.0.0,>=2.14.1->google-cloud-texttospeech)\n",
      "  Using cached pyasn1-0.6.1-py3-none-any.whl.metadata (8.4 kB)\n",
      "Requirement already satisfied: charset-normalizer<4,>=2 in /home/izuminnet/udemyApp/myenv/lib/python3.12/site-packages (from requests<3.0.0,>=2.18.0->google-api-core!=2.0.*,!=2.1.*,!=2.10.*,!=2.2.*,!=2.3.*,!=2.4.*,!=2.5.*,!=2.6.*,!=2.7.*,!=2.8.*,!=2.9.*,<3.0.0,>=1.34.1->google-api-core[grpc]!=2.0.*,!=2.1.*,!=2.10.*,!=2.2.*,!=2.3.*,!=2.4.*,!=2.5.*,!=2.6.*,!=2.7.*,!=2.8.*,!=2.9.*,<3.0.0,>=1.34.1->google-cloud-texttospeech) (3.4.1)\n",
      "Requirement already satisfied: idna<4,>=2.5 in /home/izuminnet/udemyApp/myenv/lib/python3.12/site-packages (from requests<3.0.0,>=2.18.0->google-api-core!=2.0.*,!=2.1.*,!=2.10.*,!=2.2.*,!=2.3.*,!=2.4.*,!=2.5.*,!=2.6.*,!=2.7.*,!=2.8.*,!=2.9.*,<3.0.0,>=1.34.1->google-api-core[grpc]!=2.0.*,!=2.1.*,!=2.10.*,!=2.2.*,!=2.3.*,!=2.4.*,!=2.5.*,!=2.6.*,!=2.7.*,!=2.8.*,!=2.9.*,<3.0.0,>=1.34.1->google-cloud-texttospeech) (3.10)\n",
      "Requirement already satisfied: urllib3<3,>=1.21.1 in /home/izuminnet/udemyApp/myenv/lib/python3.12/site-packages (from requests<3.0.0,>=2.18.0->google-api-core!=2.0.*,!=2.1.*,!=2.10.*,!=2.2.*,!=2.3.*,!=2.4.*,!=2.5.*,!=2.6.*,!=2.7.*,!=2.8.*,!=2.9.*,<3.0.0,>=1.34.1->google-api-core[grpc]!=2.0.*,!=2.1.*,!=2.10.*,!=2.2.*,!=2.3.*,!=2.4.*,!=2.5.*,!=2.6.*,!=2.7.*,!=2.8.*,!=2.9.*,<3.0.0,>=1.34.1->google-cloud-texttospeech) (2.3.0)\n",
      "Requirement already satisfied: certifi>=2017.4.17 in /home/izuminnet/udemyApp/myenv/lib/python3.12/site-packages (from requests<3.0.0,>=2.18.0->google-api-core!=2.0.*,!=2.1.*,!=2.10.*,!=2.2.*,!=2.3.*,!=2.4.*,!=2.5.*,!=2.6.*,!=2.7.*,!=2.8.*,!=2.9.*,<3.0.0,>=1.34.1->google-api-core[grpc]!=2.0.*,!=2.1.*,!=2.10.*,!=2.2.*,!=2.3.*,!=2.4.*,!=2.5.*,!=2.6.*,!=2.7.*,!=2.8.*,!=2.9.*,<3.0.0,>=1.34.1->google-cloud-texttospeech) (2025.1.31)\n",
      "Using cached google_cloud_texttospeech-2.25.1-py3-none-any.whl (188 kB)\n",
      "Using cached google_api_core-2.24.2-py3-none-any.whl (160 kB)\n",
      "Using cached google_auth-2.38.0-py2.py3-none-any.whl (210 kB)\n",
      "Using cached proto_plus-1.26.1-py3-none-any.whl (50 kB)\n",
      "Using cached googleapis_common_protos-1.69.2-py3-none-any.whl (293 kB)\n",
      "Using cached grpcio-1.71.0-cp312-cp312-manylinux_2_17_x86_64.manylinux2014_x86_64.whl (5.9 MB)\n",
      "Using cached grpcio_status-1.71.0-py3-none-any.whl (14 kB)\n",
      "Using cached pyasn1_modules-0.4.1-py3-none-any.whl (181 kB)\n",
      "Using cached rsa-4.9-py3-none-any.whl (34 kB)\n",
      "Using cached pyasn1-0.6.1-py3-none-any.whl (83 kB)\n",
      "Installing collected packages: pyasn1, proto-plus, grpcio, googleapis-common-protos, rsa, pyasn1-modules, grpcio-status, google-auth, google-api-core, google-cloud-texttospeech\n",
      "Successfully installed google-api-core-2.24.2 google-auth-2.38.0 google-cloud-texttospeech-2.25.1 googleapis-common-protos-1.69.2 grpcio-1.71.0 grpcio-status-1.71.0 proto-plus-1.26.1 pyasn1-0.6.1 pyasn1-modules-0.4.1 rsa-4.9\n"
     ]
    }
   ],
   "source": [
    "!pip install --upgrade google-cloud-texttospeech"
   ]
  },
  {
   "cell_type": "code",
   "execution_count": null,
   "metadata": {},
   "outputs": [],
   "source": [
    "from google.cloud import texttospeech\n",
    "\n",
    "client = texttospeech.TextToSpeechClient()\n",
    "\n",
    "synthesis_input = texttospeech.SynthesisInput(text=\"こんにちは\")\n",
    "\n",
    "voice = texttospeech.VoiceSelectionParams(\n",
    "    language_code=\"ja-JP\", ssml_gender=texttospeech.SsmlVoiceGender.MALE\n",
    ")\n",
    "\n",
    "audio_config = texttospeech.AudioConfig(\n",
    "    audio_encoding=texttospeech.AudioEncoding.MP3\n",
    ")\n",
    "\n",
    "response = client.synthesize_speech(\n",
    "    input=synthesis_input, voice=voice, audio_config=audio_config\n",
    ")\n",
    "\n",
    "# filename = \"output.mp3\"\n",
    "# with open(filename, \"wb\") as out:\n",
    "#     out.write(response.audio_content)\n",
    "#     print(f\"音声データは{filename}ファイルに書き出しました。\")"
   ]
  },
  {
   "cell_type": "code",
   "execution_count": 17,
   "metadata": {},
   "outputs": [
    {
     "data": {
      "text/html": [
       "\n",
       "                <audio  controls=\"controls\" >\n",
       "                    <source src=\"data:audio/wav;base64,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\" type=\"audio/wav\" />\n",
       "                    Your browser does not support the audio element.\n",
       "                </audio>\n",
       "              "
      ],
      "text/plain": [
       "<IPython.lib.display.Audio object>"
      ]
     },
     "execution_count": 17,
     "metadata": {},
     "output_type": "execute_result"
    }
   ],
   "source": [
    "from IPython.display import Audio\n",
    "Audio(response.audio_content)"
   ]
  }
 ],
 "metadata": {
  "kernelspec": {
   "display_name": "myenv",
   "language": "python",
   "name": "python3"
  },
  "language_info": {
   "codemirror_mode": {
    "name": "ipython",
    "version": 3
   },
   "file_extension": ".py",
   "mimetype": "text/x-python",
   "name": "python",
   "nbconvert_exporter": "python",
   "pygments_lexer": "ipython3",
   "version": "3.12.3"
  }
 },
 "nbformat": 4,
 "nbformat_minor": 2
}
