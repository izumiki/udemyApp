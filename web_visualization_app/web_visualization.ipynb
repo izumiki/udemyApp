{
 "cells": [
  {
   "cell_type": "code",
   "execution_count": null,
   "metadata": {},
   "outputs": [
    {
     "name": "stdout",
     "output_type": "stream",
     "text": [
      "Requirement already satisfied: beautifulsoup4 in /home/izuminnet/udemyApp/myenv/lib/python3.12/site-packages (4.13.3)\n",
      "Requirement already satisfied: soupsieve>1.2 in /home/izuminnet/udemyApp/myenv/lib/python3.12/site-packages (from beautifulsoup4) (2.6)\n",
      "Requirement already satisfied: typing-extensions>=4.0.0 in /home/izuminnet/udemyApp/myenv/lib/python3.12/site-packages (from beautifulsoup4) (4.13.0)\n"
     ]
    }
   ],
   "source": [
    "!pip install beautifulsoup4\n",
    "!pip install gspread\n",
    "!pip install google\n",
    "!pip install gspread-dataframe"
   ]
  },
  {
   "cell_type": "code",
   "execution_count": 84,
   "metadata": {},
   "outputs": [],
   "source": [
    "from bs4 import BeautifulSoup\n",
    "import requests\n",
    "import pandas as pd\n",
    "import datetime\n",
    "\n",
    "import gspread\n",
    "from gspread_dataframe import set_with_dataframe\n",
    "from google.oauth2.service_account import Credentials\n",
    "import altair as alt\n"
   ]
  },
  {
   "cell_type": "code",
   "execution_count": 7,
   "metadata": {},
   "outputs": [],
   "source": [
    "url = 'https://scraping-for-beginner.herokuapp.com/udemy'\n",
    "requests.get(url)\n",
    "res = requests.get(url)\n",
    "soup = BeautifulSoup(res.text, 'html.parser')"
   ]
  },
  {
   "cell_type": "code",
   "execution_count": 17,
   "metadata": {},
   "outputs": [],
   "source": [
    "n_subscriber = soup.find('p', {'class':'subscribers'}).text\n",
    "n_subscriber = int(n_subscriber.split('：')[1])\n",
    "\n",
    "n_review = soup.find('p', {'class':'reviews'}).text\n",
    "n_review = int(n_review.split('：')[1])"
   ]
  },
  {
   "cell_type": "code",
   "execution_count": null,
   "metadata": {},
   "outputs": [
    {
     "ename": "AttributeError",
     "evalue": "'NoneType' object has no attribute 'find_all'",
     "output_type": "error",
     "traceback": [
      "\u001b[31m---------------------------------------------------------------------------\u001b[39m",
      "\u001b[31mAttributeError\u001b[39m                            Traceback (most recent call last)",
      "\u001b[36mCell\u001b[39m\u001b[36m \u001b[39m\u001b[32mIn[29]\u001b[39m\u001b[32m, line 5\u001b[39m\n\u001b[32m      3\u001b[39m soup = BeautifulSoup(res.text, \u001b[33m'\u001b[39m\u001b[33mhtml.parser\u001b[39m\u001b[33m'\u001b[39m)\n\u001b[32m      4\u001b[39m item_list = soup.find(\u001b[33m'\u001b[39m\u001b[33mul\u001b[39m\u001b[33m'\u001b[39m, {\u001b[33m'\u001b[39m\u001b[33mid\u001b[39m\u001b[33m'\u001b[39m:\u001b[33m'\u001b[39m\u001b[33mitemList\u001b[39m\u001b[33m'\u001b[39m})\n\u001b[32m----> \u001b[39m\u001b[32m5\u001b[39m items = \u001b[43mitem_list\u001b[49m\u001b[43m.\u001b[49m\u001b[43mfind_all\u001b[49m(\u001b[33m'\u001b[39m\u001b[33mli\u001b[39m\u001b[33m'\u001b[39m)\n\u001b[32m      6\u001b[39m item = items[\u001b[32m0\u001b[39m]\n\u001b[32m      8\u001b[39m title =  item.find(\u001b[33m'\u001b[39m\u001b[33mp\u001b[39m\u001b[33m'\u001b[39m, {\u001b[33m'\u001b[39m\u001b[33mclass\u001b[39m\u001b[33m'\u001b[39m: \u001b[33m'\u001b[39m\u001b[33mitem-grid_itemTitleText_b58666da\u001b[39m\u001b[33m'\u001b[39m}).text\n",
      "\u001b[31mAttributeError\u001b[39m: 'NoneType' object has no attribute 'find_all'"
     ]
    }
   ],
   "source": [
    "url_ec = 'https://scraping.official.ec/'\n",
    "res = requests.get(url_ec)\n",
    "soup = BeautifulSoup(res.text, 'html.parser')\n",
    "item_list = soup.find('ul', {'id':'itemList'})\n",
    "items = item_list.find_all('li')\n",
    "\n",
    "item = items[0]\n",
    "title =  item.find('p', {'class': 'item-grid_itemTitleText_b58666da'}).text\n",
    "price = item.find('p', {'class': 'items-grid_price_b58666da'}).text\n",
    "price = int(price.replace('¥', '').replace(',', ''))\n",
    "link = item.find('a')['href']\n",
    "is_stock = item.find('p', {'class': 'items-grid_soldOut_b58666da'}) == None\n",
    "is_stock = '在庫あり' if is_stock == True else '在庫なし'"
   ]
  },
  {
   "cell_type": "code",
   "execution_count": 30,
   "metadata": {},
   "outputs": [
    {
     "ename": "AttributeError",
     "evalue": "'NoneType' object has no attribute 'find_all'",
     "output_type": "error",
     "traceback": [
      "\u001b[31m---------------------------------------------------------------------------\u001b[39m",
      "\u001b[31mAttributeError\u001b[39m                            Traceback (most recent call last)",
      "\u001b[36mCell\u001b[39m\u001b[36m \u001b[39m\u001b[32mIn[30]\u001b[39m\u001b[32m, line 5\u001b[39m\n\u001b[32m      3\u001b[39m soup = BeautifulSoup(res.text, \u001b[33m'\u001b[39m\u001b[33mhtml.parser\u001b[39m\u001b[33m'\u001b[39m)\n\u001b[32m      4\u001b[39m item_list = soup.find(\u001b[33m'\u001b[39m\u001b[33mul\u001b[39m\u001b[33m'\u001b[39m, {\u001b[33m'\u001b[39m\u001b[33mid\u001b[39m\u001b[33m'\u001b[39m:\u001b[33m'\u001b[39m\u001b[33mitemList\u001b[39m\u001b[33m'\u001b[39m})\n\u001b[32m----> \u001b[39m\u001b[32m5\u001b[39m items = \u001b[43mitem_list\u001b[49m\u001b[43m.\u001b[49m\u001b[43mfind_all\u001b[49m(\u001b[33m'\u001b[39m\u001b[33mli\u001b[39m\u001b[33m'\u001b[39m)\n\u001b[32m      7\u001b[39m data_ec = []\n\u001b[32m      8\u001b[39m \u001b[38;5;28;01mfor\u001b[39;00m item \u001b[38;5;129;01min\u001b[39;00m items:\n",
      "\u001b[31mAttributeError\u001b[39m: 'NoneType' object has no attribute 'find_all'"
     ]
    }
   ],
   "source": [
    "url_ec = 'https://scraping.official.ec/'\n",
    "res = requests.get(url_ec)\n",
    "soup = BeautifulSoup(res.text, 'html.parser')\n",
    "item_list = soup.find('ul', {'id':'itemList'})\n",
    "items = item_list.find_all('li')\n",
    "\n",
    "data_ec = []\n",
    "for item in items:\n",
    "    datum_ec = {}\n",
    "    datum_ec['title'] = item.find('p', {'class': 'item-grid_itemTitleText_b58666da'}).text\n",
    "    price = item.find('p', {'class': 'items-grid_price_b58666da'}).text\n",
    "    datum_ec['price'] = int(datum_ec['price'].replace('¥', '').replace(',', ''))\n",
    "    datum_ec['link'] = item.find('a')['href']\n",
    "    is_stock = item.find('p', {'class': 'items-grid_soldOut_b58666da'}) == None\n",
    "    datum_ec['is_stock'] = '在庫あり' if datum_ec['is_stock'] == True else '在庫なし'\n",
    "    data_ec.append(datum_ec)"
   ]
  },
  {
   "cell_type": "code",
   "execution_count": 32,
   "metadata": {},
   "outputs": [],
   "source": [
    "def get_data_udemy():\n",
    "    url = 'https://scraping-for-beginner.herokuapp.com/udemy'\n",
    "    requests.get(url)\n",
    "    res = requests.get(url)\n",
    "    soup = BeautifulSoup(res.text, 'html.parser')\n",
    "\n",
    "    n_subscriber = soup.find('p', {'class':'subscribers'}).text\n",
    "    n_subscriber = int(n_subscriber.split('：')[1])\n",
    "\n",
    "    n_review = soup.find('p', {'class':'reviews'}).text\n",
    "    n_review = int(n_review.split('：')[1])\n",
    "\n",
    "    return {\n",
    "        'n_subscriber': n_subscriber,\n",
    "        'n_review': n_review\n",
    "    }"
   ]
  },
  {
   "cell_type": "code",
   "execution_count": 36,
   "metadata": {},
   "outputs": [],
   "source": [
    "def get_data_ec(item):\n",
    "    url_ec = 'https://scraping.official.ec/'\n",
    "    res = requests.get(url_ec)\n",
    "    soup = BeautifulSoup(res.text, 'html.parser')\n",
    "    item_list = soup.find('ul', {'id':'itemList'})\n",
    "    items = item_list.find_all('li')\n",
    "\n",
    "    data_ec = []\n",
    "    for item in items:\n",
    "        datum_ec = {}\n",
    "        datum_ec['title'] = item.find('p', {'class': 'item-grid_itemTitleText_b58666da'}).text\n",
    "        price = item.find('p', {'class': 'items-grid_price_b58666da'}).text\n",
    "        datum_ec['price'] = int(datum_ec['price'].replace('¥', '').replace(',', ''))\n",
    "        datum_ec['link'] = item.find('a')['href']\n",
    "        is_stock = item.find('p', {'class': 'items-grid_soldOut_b58666da'}) == None\n",
    "        datum_ec['is_stock'] = '在庫あり' if datum_ec['is_stock'] == True else '在庫なし'\n",
    "        data_ec.append(datum_ec)\n",
    "    df_ec = pd.DataFrame(data_ec)\n",
    "\n",
    "    return df_ec"
   ]
  },
  {
   "cell_type": "code",
   "execution_count": 85,
   "metadata": {},
   "outputs": [],
   "source": [
    "scopes = [\n",
    "    'https://www.googleapis.com/auth/spreadsheets',\n",
    "    'https://www.googleapis.com/auth/drive'\n",
    "]\n",
    "\n",
    "credentials = Credentials.from_service_account_file(\n",
    "    'service_account.json',\n",
    "    scopes=scopes\n",
    ")\n",
    "\n",
    "gc = gspread.authorize(credentials)"
   ]
  },
  {
   "cell_type": "code",
   "execution_count": 47,
   "metadata": {},
   "outputs": [],
   "source": [
    "SP_SHEET_KEY =  '1GUQltcAVjUPJLUYSJ4edJ-k_A33fSJqu75x3f6A8aoI'\n",
    "sh =gc.open_by_key(SP_SHEET_KEY)\n",
    "SP_SHEET = 'db'\n",
    "worksheet = sh.worksheet(SP_SHEET)\n",
    "data = worksheet.get_all_values()\n",
    "df = pd.DataFrame(data[1:], columns=data[0])"
   ]
  },
  {
   "cell_type": "code",
   "execution_count": null,
   "metadata": {},
   "outputs": [
    {
     "data": {
      "text/html": [
       "<div>\n",
       "<style scoped>\n",
       "    .dataframe tbody tr th:only-of-type {\n",
       "        vertical-align: middle;\n",
       "    }\n",
       "\n",
       "    .dataframe tbody tr th {\n",
       "        vertical-align: top;\n",
       "    }\n",
       "\n",
       "    .dataframe thead th {\n",
       "        text-align: right;\n",
       "    }\n",
       "</style>\n",
       "<table border=\"1\" class=\"dataframe\">\n",
       "  <thead>\n",
       "    <tr style=\"text-align: right;\">\n",
       "      <th></th>\n",
       "      <th>date</th>\n",
       "      <th>n_subscriber</th>\n",
       "      <th>n_review</th>\n",
       "    </tr>\n",
       "  </thead>\n",
       "  <tbody>\n",
       "    <tr>\n",
       "      <th>0</th>\n",
       "      <td>2021/03/09</td>\n",
       "      <td>11032</td>\n",
       "      <td>1882</td>\n",
       "    </tr>\n",
       "    <tr>\n",
       "      <th>1</th>\n",
       "      <td>2021/03/10</td>\n",
       "      <td>11049</td>\n",
       "      <td>1885</td>\n",
       "    </tr>\n",
       "    <tr>\n",
       "      <th>2</th>\n",
       "      <td>2021/03/11</td>\n",
       "      <td>11068</td>\n",
       "      <td>1889</td>\n",
       "    </tr>\n",
       "    <tr>\n",
       "      <th>3</th>\n",
       "      <td>2021/03/12</td>\n",
       "      <td>11070</td>\n",
       "      <td>1891</td>\n",
       "    </tr>\n",
       "    <tr>\n",
       "      <th>4</th>\n",
       "      <td>2021/03/13</td>\n",
       "      <td>11074</td>\n",
       "      <td>1894</td>\n",
       "    </tr>\n",
       "    <tr>\n",
       "      <th>...</th>\n",
       "      <td>...</td>\n",
       "      <td>...</td>\n",
       "      <td>...</td>\n",
       "    </tr>\n",
       "    <tr>\n",
       "      <th>625</th>\n",
       "      <td>2022/11/26</td>\n",
       "      <td>17886</td>\n",
       "      <td>3093</td>\n",
       "    </tr>\n",
       "    <tr>\n",
       "      <th>626</th>\n",
       "      <td>2022/11/27</td>\n",
       "      <td>17902</td>\n",
       "      <td>3096</td>\n",
       "    </tr>\n",
       "    <tr>\n",
       "      <th>627</th>\n",
       "      <td>2022/11/28</td>\n",
       "      <td>17934</td>\n",
       "      <td>3097</td>\n",
       "    </tr>\n",
       "    <tr>\n",
       "      <th>628</th>\n",
       "      <td>2022/11/29</td>\n",
       "      <td>17959</td>\n",
       "      <td>3100</td>\n",
       "    </tr>\n",
       "    <tr>\n",
       "      <th>629</th>\n",
       "      <td>2025/03/29</td>\n",
       "      <td>23114</td>\n",
       "      <td>3832</td>\n",
       "    </tr>\n",
       "  </tbody>\n",
       "</table>\n",
       "<p>630 rows × 3 columns</p>\n",
       "</div>"
      ],
      "text/plain": [
       "           date n_subscriber n_review\n",
       "0    2021/03/09        11032     1882\n",
       "1    2021/03/10        11049     1885\n",
       "2    2021/03/11        11068     1889\n",
       "3    2021/03/12        11070     1891\n",
       "4    2021/03/13        11074     1894\n",
       "..          ...          ...      ...\n",
       "625  2022/11/26        17886     3093\n",
       "626  2022/11/27        17902     3096\n",
       "627  2022/11/28        17934     3097\n",
       "628  2022/11/29        17959     3100\n",
       "629  2025/03/29        23114     3832\n",
       "\n",
       "[630 rows x 3 columns]"
      ]
     },
     "execution_count": 62,
     "metadata": {},
     "output_type": "execute_result"
    }
   ],
   "source": [
    "data_udemy = get_data_udemy()\n",
    "today = datetime.date.today().strftime('%Y/%m/%d')\n",
    "data_udemy['date'] = today\n",
    "\n",
    "df = pd.concat([df, pd.DataFrame([data_udemy])], ignore_index=True)\n",
    "set_with_dataframe(worksheet, df, row=1, col=1)"
   ]
  },
  {
   "cell_type": "code",
   "execution_count": null,
   "metadata": {},
   "outputs": [
    {
     "data": {
      "text/html": [
       "<div>\n",
       "<style scoped>\n",
       "    .dataframe tbody tr th:only-of-type {\n",
       "        vertical-align: middle;\n",
       "    }\n",
       "\n",
       "    .dataframe tbody tr th {\n",
       "        vertical-align: top;\n",
       "    }\n",
       "\n",
       "    .dataframe thead th {\n",
       "        text-align: right;\n",
       "    }\n",
       "</style>\n",
       "<table border=\"1\" class=\"dataframe\">\n",
       "  <thead>\n",
       "    <tr style=\"text-align: right;\">\n",
       "      <th></th>\n",
       "      <th>date</th>\n",
       "      <th>n_subscriber</th>\n",
       "      <th>n_review</th>\n",
       "    </tr>\n",
       "  </thead>\n",
       "  <tbody>\n",
       "    <tr>\n",
       "      <th>0</th>\n",
       "      <td>2021/03/09</td>\n",
       "      <td>11032</td>\n",
       "      <td>1882</td>\n",
       "    </tr>\n",
       "    <tr>\n",
       "      <th>1</th>\n",
       "      <td>2021/03/10</td>\n",
       "      <td>11049</td>\n",
       "      <td>1885</td>\n",
       "    </tr>\n",
       "    <tr>\n",
       "      <th>2</th>\n",
       "      <td>2021/03/11</td>\n",
       "      <td>11068</td>\n",
       "      <td>1889</td>\n",
       "    </tr>\n",
       "  </tbody>\n",
       "</table>\n",
       "</div>"
      ],
      "text/plain": [
       "         date n_subscriber n_review\n",
       "0  2021/03/09        11032     1882\n",
       "1  2021/03/10        11049     1885\n",
       "2  2021/03/11        11068     1889"
      ]
     },
     "execution_count": 66,
     "metadata": {},
     "output_type": "execute_result"
    }
   ],
   "source": [
    "data = worksheet.get_all_values()\n",
    "df_udemy = pd.DataFrame(data[1:], columns=data[0])"
   ]
  },
  {
   "cell_type": "code",
   "execution_count": 78,
   "metadata": {},
   "outputs": [],
   "source": [
    "df_udemy = df_udemy.astype({\n",
    "    'n_subscriber': 'int',\n",
    "    'n_review': 'int'\n",
    "})\n",
    "\n",
    "ymin1 = df_udemy['n_subscriber'].min() -10 \n",
    "ymax1 = df_udemy['n_subscriber'].max() + 10\n",
    "\n",
    "ymin2 = df_udemy['n_review'].min() -10\n",
    "ymax2 = df_udemy['n_review'].max() + 10"
   ]
  },
  {
   "cell_type": "code",
   "execution_count": 81,
   "metadata": {},
   "outputs": [],
   "source": [
    "\n",
    "\n",
    "base = alt.Chart(df_udemy).encode(\n",
    "    alt.X('date:T', axis=alt.Axis(title=None)),\n",
    ")\n",
    "\n",
    "line1 = base.mark_line().encode(\n",
    "    alt.Y('n_subscriber', \n",
    "          axis=alt.Axis(title='受講生数', titleColor='#57A44C'),\n",
    "          scale=alt.Scale(domain=[ymin1, ymax1]))\n",
    ")\n",
    "\n",
    "line2 = base.mark_line().encode(\n",
    "    alt.Y('n_review', \n",
    "          axis=alt.Axis(title='レビュー数', titleColor='#5276A7'),\n",
    "          scale=alt.Scale(domain=[ymin2, ymax2]))\n",
    ")\n",
    "\n",
    "chart = alt.layer(line1, line2).resolve_scale(\n",
    "    y='independent'\n",
    ")"
   ]
  }
 ],
 "metadata": {
  "kernelspec": {
   "display_name": "myenv",
   "language": "python",
   "name": "python3"
  },
  "language_info": {
   "codemirror_mode": {
    "name": "ipython",
    "version": 3
   },
   "file_extension": ".py",
   "mimetype": "text/x-python",
   "name": "python",
   "nbconvert_exporter": "python",
   "pygments_lexer": "ipython3",
   "version": "3.12.3"
  }
 },
 "nbformat": 4,
 "nbformat_minor": 2
}
